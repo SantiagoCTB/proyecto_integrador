{
 "cells": [
  {
   "cell_type": "code",
   "execution_count": 17,
   "id": "a66f8f29",
   "metadata": {},
   "outputs": [],
   "source": [
    "import pandas as pd\n",
    "import numpy as np\n",
    "from tabulate import tabulate"
   ]
  },
  {
   "cell_type": "code",
   "execution_count": 18,
   "id": "777c6927",
   "metadata": {},
   "outputs": [],
   "source": [
    "df = pd.read_excel(\"RCV.xlsx\")"
   ]
  },
  {
   "cell_type": "code",
   "execution_count": 19,
   "id": "7a0c4651",
   "metadata": {},
   "outputs": [],
   "source": [
    "df_resultados = df[\n",
    "    [\"id_persona\", \"sexo\", \"Edad\", \"HTA\", \"DM\", \"PAS\", \"PAD\", \"AlertaRiesgoHTA\", \"IMC\", \"IMCAnterior\",\n",
    "     \"Peso\", \"PesoAnterior\", \"G22-1\", \"G22-2\", \"953-1\", \"C86-1\", \"G06\", \"AlertaDMSinFindrisk\", \"PerimetroAbdominal\",\n",
    "     \"ActividadFisica\", \"Alimentacion\", \"antihipertensivos\", \"TestFindrisc\", \"AlertaTestFindrisc\", \"AlertaConfirmadoHTAoDM\",\n",
    "     \"ResultadoCreatininaActual\", \"ResultadoCreatininaAnterior\", \"TFGCyGActual\", \"TFGCyGAnterior\", \"AlertaTFGCyG\", \"TFGActual\",\n",
    "     \"TFGAnterior\", \"AlertaTFG\", \"Albuminuria\", \"Microalbuminuria\", \"Proteinuria\", \"AlertaAlbuMicroProteinuria\"]\n",
    "]"
   ]
  },
  {
   "cell_type": "markdown",
   "id": "bc57cec4",
   "metadata": {},
   "source": [
    "# Cálculo alerta:\n",
    "\n",
    "Para el cálculo del riesgo cardiovascular, nuestra variable de respuesta estará hecha através de la suma de las diferentes alertas como:\n",
    "\n",
    "* AlertaRiesgoHTA\n",
    "* AlertaDMSinFindrisk\n",
    "* AlertaTestFindrisc\n",
    "* AlertaConfirmadoHTAoDM\n",
    "* AlertaTFGCyG\n",
    "* AlertaTFG\n",
    "* AlertaAlbuMicroProteinuria"
   ]
  },
  {
   "cell_type": "code",
   "execution_count": 20,
   "id": "737ba4e5",
   "metadata": {},
   "outputs": [],
   "source": [
    "df_con_suma = df_resultados.copy()\n",
    "\n",
    "df_con_suma[\"AlertasSumadas\"] = (\n",
    "    df_con_suma[\"AlertaRiesgoHTA\"].fillna(0) +\n",
    "    df_con_suma[\"AlertaDMSinFindrisk\"].fillna(0) +\n",
    "    df_con_suma[\"AlertaTestFindrisc\"].fillna(0) +\n",
    "    df_con_suma[\"AlertaConfirmadoHTAoDM\"].fillna(0) +\n",
    "    df_con_suma[\"AlertaTFGCyG\"].fillna(0) +\n",
    "    df_con_suma[\"AlertaTFG\"].fillna(0) +\n",
    "    df_con_suma[\"AlertaAlbuMicroProteinuria\"].fillna(0)\n",
    ")"
   ]
  },
  {
   "cell_type": "code",
   "execution_count": 21,
   "id": "be66246e",
   "metadata": {},
   "outputs": [
    {
     "name": "stdout",
     "output_type": "stream",
     "text": [
      "<class 'pandas.core.frame.DataFrame'>\n",
      "RangeIndex: 5000 entries, 0 to 4999\n",
      "Data columns (total 38 columns):\n",
      " #   Column                       Non-Null Count  Dtype  \n",
      "---  ------                       --------------  -----  \n",
      " 0   id_persona                   5000 non-null   int64  \n",
      " 1   sexo                         5000 non-null   object \n",
      " 2   Edad                         5000 non-null   int64  \n",
      " 3   HTA                          5000 non-null   int64  \n",
      " 4   DM                           5000 non-null   int64  \n",
      " 5   PAS                          3179 non-null   float64\n",
      " 6   PAD                          3179 non-null   float64\n",
      " 7   AlertaRiesgoHTA              5000 non-null   int64  \n",
      " 8   IMC                          3842 non-null   object \n",
      " 9   IMCAnterior                  3843 non-null   object \n",
      " 10  Peso                         3842 non-null   object \n",
      " 11  PesoAnterior                 3843 non-null   object \n",
      " 12  G22-1                        35 non-null     float64\n",
      " 13  G22-2                        35 non-null     float64\n",
      " 14  953-1                        87 non-null     float64\n",
      " 15  C86-1                        29 non-null     object \n",
      " 16  G06                          1588 non-null   object \n",
      " 17  AlertaDMSinFindrisk          5000 non-null   int64  \n",
      " 18  PerimetroAbdominal           3316 non-null   object \n",
      " 19  ActividadFisica              2103 non-null   object \n",
      " 20  Alimentacion                 345 non-null    object \n",
      " 21  antihipertensivos            0 non-null      float64\n",
      " 22  TestFindrisc                 5000 non-null   int64  \n",
      " 23  AlertaTestFindrisc           5000 non-null   int64  \n",
      " 24  AlertaConfirmadoHTAoDM       5000 non-null   int64  \n",
      " 25  ResultadoCreatininaActual    1694 non-null   object \n",
      " 26  ResultadoCreatininaAnterior  535 non-null    object \n",
      " 27  TFGCyGActual                 1457 non-null   object \n",
      " 28  TFGCyGAnterior               534 non-null    object \n",
      " 29  AlertaTFGCyG                 5000 non-null   int64  \n",
      " 30  TFGActual                    1693 non-null   object \n",
      " 31  TFGAnterior                  527 non-null    object \n",
      " 32  AlertaTFG                    5000 non-null   int64  \n",
      " 33  Albuminuria                  512 non-null    object \n",
      " 34  Microalbuminuria             343 non-null    object \n",
      " 35  Proteinuria                  24 non-null     object \n",
      " 36  AlertaAlbuMicroProteinuria   5000 non-null   int64  \n",
      " 37  AlertasSumadas               5000 non-null   int64  \n",
      "dtypes: float64(6), int64(13), object(19)\n",
      "memory usage: 1.4+ MB\n"
     ]
    }
   ],
   "source": [
    "df_con_suma.info()"
   ]
  },
  {
   "cell_type": "code",
   "execution_count": 22,
   "id": "4dae3a31",
   "metadata": {},
   "outputs": [],
   "source": [
    "df_con_condicional = df_con_suma.copy()\n",
    "\n",
    "df_con_condicional[\"RCV\"] = np.where(df_con_condicional[\"AlertasSumadas\"] > 0, 1, 0)"
   ]
  },
  {
   "cell_type": "code",
   "execution_count": 23,
   "id": "7adf5795",
   "metadata": {},
   "outputs": [
    {
     "data": {
      "application/vnd.microsoft.datawrangler.viewer.v0+json": {
       "columns": [
        {
         "name": "index",
         "rawType": "int64",
         "type": "integer"
        },
        {
         "name": "id_persona",
         "rawType": "int64",
         "type": "integer"
        },
        {
         "name": "AlertasSumadas",
         "rawType": "int64",
         "type": "integer"
        },
        {
         "name": "RCV",
         "rawType": "int32",
         "type": "integer"
        }
       ],
       "ref": "b2b268d0-1f55-4ac7-a0cd-d5ece0d6c89f",
       "rows": [
        [
         "0",
         "8086",
         "0",
         "0"
        ],
        [
         "1",
         "3109",
         "0",
         "0"
        ],
        [
         "2",
         "2718",
         "0",
         "0"
        ],
        [
         "3",
         "4494",
         "0",
         "0"
        ],
        [
         "4",
         "4262",
         "0",
         "0"
        ],
        [
         "5",
         "4622",
         "0",
         "0"
        ],
        [
         "6",
         "9713",
         "0",
         "0"
        ],
        [
         "7",
         "6774",
         "2",
         "1"
        ],
        [
         "8",
         "2227",
         "0",
         "0"
        ],
        [
         "9",
         "7925",
         "0",
         "0"
        ]
       ],
       "shape": {
        "columns": 3,
        "rows": 10
       }
      },
      "text/html": [
       "<div>\n",
       "<style scoped>\n",
       "    .dataframe tbody tr th:only-of-type {\n",
       "        vertical-align: middle;\n",
       "    }\n",
       "\n",
       "    .dataframe tbody tr th {\n",
       "        vertical-align: top;\n",
       "    }\n",
       "\n",
       "    .dataframe thead th {\n",
       "        text-align: right;\n",
       "    }\n",
       "</style>\n",
       "<table border=\"1\" class=\"dataframe\">\n",
       "  <thead>\n",
       "    <tr style=\"text-align: right;\">\n",
       "      <th></th>\n",
       "      <th>id_persona</th>\n",
       "      <th>AlertasSumadas</th>\n",
       "      <th>RCV</th>\n",
       "    </tr>\n",
       "  </thead>\n",
       "  <tbody>\n",
       "    <tr>\n",
       "      <th>0</th>\n",
       "      <td>8086</td>\n",
       "      <td>0</td>\n",
       "      <td>0</td>\n",
       "    </tr>\n",
       "    <tr>\n",
       "      <th>1</th>\n",
       "      <td>3109</td>\n",
       "      <td>0</td>\n",
       "      <td>0</td>\n",
       "    </tr>\n",
       "    <tr>\n",
       "      <th>2</th>\n",
       "      <td>2718</td>\n",
       "      <td>0</td>\n",
       "      <td>0</td>\n",
       "    </tr>\n",
       "    <tr>\n",
       "      <th>3</th>\n",
       "      <td>4494</td>\n",
       "      <td>0</td>\n",
       "      <td>0</td>\n",
       "    </tr>\n",
       "    <tr>\n",
       "      <th>4</th>\n",
       "      <td>4262</td>\n",
       "      <td>0</td>\n",
       "      <td>0</td>\n",
       "    </tr>\n",
       "    <tr>\n",
       "      <th>5</th>\n",
       "      <td>4622</td>\n",
       "      <td>0</td>\n",
       "      <td>0</td>\n",
       "    </tr>\n",
       "    <tr>\n",
       "      <th>6</th>\n",
       "      <td>9713</td>\n",
       "      <td>0</td>\n",
       "      <td>0</td>\n",
       "    </tr>\n",
       "    <tr>\n",
       "      <th>7</th>\n",
       "      <td>6774</td>\n",
       "      <td>2</td>\n",
       "      <td>1</td>\n",
       "    </tr>\n",
       "    <tr>\n",
       "      <th>8</th>\n",
       "      <td>2227</td>\n",
       "      <td>0</td>\n",
       "      <td>0</td>\n",
       "    </tr>\n",
       "    <tr>\n",
       "      <th>9</th>\n",
       "      <td>7925</td>\n",
       "      <td>0</td>\n",
       "      <td>0</td>\n",
       "    </tr>\n",
       "  </tbody>\n",
       "</table>\n",
       "</div>"
      ],
      "text/plain": [
       "   id_persona  AlertasSumadas  RCV\n",
       "0        8086               0    0\n",
       "1        3109               0    0\n",
       "2        2718               0    0\n",
       "3        4494               0    0\n",
       "4        4262               0    0\n",
       "5        4622               0    0\n",
       "6        9713               0    0\n",
       "7        6774               2    1\n",
       "8        2227               0    0\n",
       "9        7925               0    0"
      ]
     },
     "execution_count": 23,
     "metadata": {},
     "output_type": "execute_result"
    }
   ],
   "source": [
    "df_con_condicional[['id_persona', 'AlertasSumadas', 'RCV']].head(10)"
   ]
  },
  {
   "cell_type": "code",
   "execution_count": 24,
   "id": "894e15b3",
   "metadata": {},
   "outputs": [],
   "source": [
    "df_final = df_con_condicional[\n",
    "    [\"id_persona\", \"sexo\", \"Edad\", \"HTA\", \"DM\", \"PAS\", \"PAD\", \"IMC\", \"IMCAnterior\",\n",
    "     \"Peso\", \"PesoAnterior\", \"G22-1\", \"G22-2\", \"953-1\", \"C86-1\", \"G06\", \"PerimetroAbdominal\",\n",
    "     \"ActividadFisica\", \"Alimentacion\", \"antihipertensivos\", \"TestFindrisc\",\n",
    "     \"ResultadoCreatininaActual\", \"ResultadoCreatininaAnterior\", \"TFGCyGActual\", \"TFGCyGAnterior\", \"TFGActual\",\n",
    "     \"TFGAnterior\", \"Albuminuria\", \"Microalbuminuria\", \"Proteinuria\", \"RCV\"]\n",
    "]"
   ]
  },
  {
   "cell_type": "code",
   "execution_count": 25,
   "id": "939bfadf",
   "metadata": {},
   "outputs": [
    {
     "name": "stdout",
     "output_type": "stream",
     "text": [
      "id_persona                       int64\n",
      "sexo                            object\n",
      "Edad                             int64\n",
      "HTA                              int64\n",
      "DM                               int64\n",
      "PAS                            float64\n",
      "PAD                            float64\n",
      "IMC                            float64\n",
      "IMCAnterior                    float64\n",
      "Peso                           float64\n",
      "PesoAnterior                   float64\n",
      "G22-1                          float64\n",
      "G22-2                          float64\n",
      "953-1                          float64\n",
      "C86-1                          float64\n",
      "G06                            float64\n",
      "PerimetroAbdominal             float64\n",
      "ActividadFisica                 object\n",
      "Alimentacion                    object\n",
      "antihipertensivos              float64\n",
      "TestFindrisc                     int64\n",
      "ResultadoCreatininaActual      float64\n",
      "ResultadoCreatininaAnterior    float64\n",
      "TFGCyGActual                   float64\n",
      "TFGCyGAnterior                 float64\n",
      "TFGActual                      float64\n",
      "TFGAnterior                    float64\n",
      "Albuminuria                    float64\n",
      "Microalbuminuria               float64\n",
      "Proteinuria                    float64\n",
      "RCV                              int32\n",
      "dtype: object\n",
      "   id_persona       sexo  Edad  HTA  DM    PAS   PAD        IMC  IMCAnterior   \n",
      "0        8086   Femenino    21    0   0    NaN   NaN        NaN          NaN  \\\n",
      "1        3109   Femenino    27    0   0  100.0  80.0  26.890680    26.890680   \n",
      "2        2718   Femenino    23    0   0  110.0  70.0  21.262003    21.262003   \n",
      "3        4494  Masculino    16    0   0    NaN   NaN        NaN          NaN   \n",
      "4        4262   Femenino    30    0   0    NaN   NaN        NaN          NaN   \n",
      "\n",
      "   Peso  ...  ResultadoCreatininaActual  ResultadoCreatininaAnterior   \n",
      "0   NaN  ...                        NaN                          NaN  \\\n",
      "1  59.7  ...                        NaN                          NaN   \n",
      "2  55.8  ...                        NaN                          NaN   \n",
      "3   NaN  ...                        NaN                          NaN   \n",
      "4   NaN  ...                        NaN                          NaN   \n",
      "\n",
      "   TFGCyGActual  TFGCyGAnterior  TFGActual  TFGAnterior  Albuminuria   \n",
      "0           NaN             NaN        NaN          NaN          NaN  \\\n",
      "1           NaN             NaN        NaN          NaN          NaN   \n",
      "2           NaN             NaN        NaN          NaN          NaN   \n",
      "3           NaN             NaN        NaN          NaN          NaN   \n",
      "4           NaN             NaN        NaN          NaN          NaN   \n",
      "\n",
      "  Microalbuminuria Proteinuria  RCV  \n",
      "0              NaN         NaN    0  \n",
      "1              NaN         NaN    0  \n",
      "2              NaN         NaN    0  \n",
      "3              NaN         NaN    0  \n",
      "4              NaN         NaN    0  \n",
      "\n",
      "[5 rows x 31 columns]\n"
     ]
    },
    {
     "name": "stderr",
     "output_type": "stream",
     "text": [
      "C:\\Users\\Usuario\\AppData\\Local\\Temp\\ipykernel_20260\\691365213.py:8: SettingWithCopyWarning: \n",
      "A value is trying to be set on a copy of a slice from a DataFrame.\n",
      "Try using .loc[row_indexer,col_indexer] = value instead\n",
      "\n",
      "See the caveats in the documentation: https://pandas.pydata.org/pandas-docs/stable/user_guide/indexing.html#returning-a-view-versus-a-copy\n",
      "  df_final[c] = df_final[c].astype(str).str.replace(',', '.', regex=False)\n",
      "C:\\Users\\Usuario\\AppData\\Local\\Temp\\ipykernel_20260\\691365213.py:9: SettingWithCopyWarning: \n",
      "A value is trying to be set on a copy of a slice from a DataFrame.\n",
      "Try using .loc[row_indexer,col_indexer] = value instead\n",
      "\n",
      "See the caveats in the documentation: https://pandas.pydata.org/pandas-docs/stable/user_guide/indexing.html#returning-a-view-versus-a-copy\n",
      "  df_final[c] = pd.to_numeric(df_final[c], errors='coerce')\n",
      "C:\\Users\\Usuario\\AppData\\Local\\Temp\\ipykernel_20260\\691365213.py:8: SettingWithCopyWarning: \n",
      "A value is trying to be set on a copy of a slice from a DataFrame.\n",
      "Try using .loc[row_indexer,col_indexer] = value instead\n",
      "\n",
      "See the caveats in the documentation: https://pandas.pydata.org/pandas-docs/stable/user_guide/indexing.html#returning-a-view-versus-a-copy\n",
      "  df_final[c] = df_final[c].astype(str).str.replace(',', '.', regex=False)\n",
      "C:\\Users\\Usuario\\AppData\\Local\\Temp\\ipykernel_20260\\691365213.py:9: SettingWithCopyWarning: \n",
      "A value is trying to be set on a copy of a slice from a DataFrame.\n",
      "Try using .loc[row_indexer,col_indexer] = value instead\n",
      "\n",
      "See the caveats in the documentation: https://pandas.pydata.org/pandas-docs/stable/user_guide/indexing.html#returning-a-view-versus-a-copy\n",
      "  df_final[c] = pd.to_numeric(df_final[c], errors='coerce')\n",
      "C:\\Users\\Usuario\\AppData\\Local\\Temp\\ipykernel_20260\\691365213.py:8: SettingWithCopyWarning: \n",
      "A value is trying to be set on a copy of a slice from a DataFrame.\n",
      "Try using .loc[row_indexer,col_indexer] = value instead\n",
      "\n",
      "See the caveats in the documentation: https://pandas.pydata.org/pandas-docs/stable/user_guide/indexing.html#returning-a-view-versus-a-copy\n",
      "  df_final[c] = df_final[c].astype(str).str.replace(',', '.', regex=False)\n",
      "C:\\Users\\Usuario\\AppData\\Local\\Temp\\ipykernel_20260\\691365213.py:9: SettingWithCopyWarning: \n",
      "A value is trying to be set on a copy of a slice from a DataFrame.\n",
      "Try using .loc[row_indexer,col_indexer] = value instead\n",
      "\n",
      "See the caveats in the documentation: https://pandas.pydata.org/pandas-docs/stable/user_guide/indexing.html#returning-a-view-versus-a-copy\n",
      "  df_final[c] = pd.to_numeric(df_final[c], errors='coerce')\n",
      "C:\\Users\\Usuario\\AppData\\Local\\Temp\\ipykernel_20260\\691365213.py:8: SettingWithCopyWarning: \n",
      "A value is trying to be set on a copy of a slice from a DataFrame.\n",
      "Try using .loc[row_indexer,col_indexer] = value instead\n",
      "\n",
      "See the caveats in the documentation: https://pandas.pydata.org/pandas-docs/stable/user_guide/indexing.html#returning-a-view-versus-a-copy\n",
      "  df_final[c] = df_final[c].astype(str).str.replace(',', '.', regex=False)\n",
      "C:\\Users\\Usuario\\AppData\\Local\\Temp\\ipykernel_20260\\691365213.py:9: SettingWithCopyWarning: \n",
      "A value is trying to be set on a copy of a slice from a DataFrame.\n",
      "Try using .loc[row_indexer,col_indexer] = value instead\n",
      "\n",
      "See the caveats in the documentation: https://pandas.pydata.org/pandas-docs/stable/user_guide/indexing.html#returning-a-view-versus-a-copy\n",
      "  df_final[c] = pd.to_numeric(df_final[c], errors='coerce')\n",
      "C:\\Users\\Usuario\\AppData\\Local\\Temp\\ipykernel_20260\\691365213.py:8: SettingWithCopyWarning: \n",
      "A value is trying to be set on a copy of a slice from a DataFrame.\n",
      "Try using .loc[row_indexer,col_indexer] = value instead\n",
      "\n",
      "See the caveats in the documentation: https://pandas.pydata.org/pandas-docs/stable/user_guide/indexing.html#returning-a-view-versus-a-copy\n",
      "  df_final[c] = df_final[c].astype(str).str.replace(',', '.', regex=False)\n",
      "C:\\Users\\Usuario\\AppData\\Local\\Temp\\ipykernel_20260\\691365213.py:9: SettingWithCopyWarning: \n",
      "A value is trying to be set on a copy of a slice from a DataFrame.\n",
      "Try using .loc[row_indexer,col_indexer] = value instead\n",
      "\n",
      "See the caveats in the documentation: https://pandas.pydata.org/pandas-docs/stable/user_guide/indexing.html#returning-a-view-versus-a-copy\n",
      "  df_final[c] = pd.to_numeric(df_final[c], errors='coerce')\n",
      "C:\\Users\\Usuario\\AppData\\Local\\Temp\\ipykernel_20260\\691365213.py:8: SettingWithCopyWarning: \n",
      "A value is trying to be set on a copy of a slice from a DataFrame.\n",
      "Try using .loc[row_indexer,col_indexer] = value instead\n",
      "\n",
      "See the caveats in the documentation: https://pandas.pydata.org/pandas-docs/stable/user_guide/indexing.html#returning-a-view-versus-a-copy\n",
      "  df_final[c] = df_final[c].astype(str).str.replace(',', '.', regex=False)\n",
      "C:\\Users\\Usuario\\AppData\\Local\\Temp\\ipykernel_20260\\691365213.py:9: SettingWithCopyWarning: \n",
      "A value is trying to be set on a copy of a slice from a DataFrame.\n",
      "Try using .loc[row_indexer,col_indexer] = value instead\n",
      "\n",
      "See the caveats in the documentation: https://pandas.pydata.org/pandas-docs/stable/user_guide/indexing.html#returning-a-view-versus-a-copy\n",
      "  df_final[c] = pd.to_numeric(df_final[c], errors='coerce')\n",
      "C:\\Users\\Usuario\\AppData\\Local\\Temp\\ipykernel_20260\\691365213.py:8: SettingWithCopyWarning: \n",
      "A value is trying to be set on a copy of a slice from a DataFrame.\n",
      "Try using .loc[row_indexer,col_indexer] = value instead\n",
      "\n",
      "See the caveats in the documentation: https://pandas.pydata.org/pandas-docs/stable/user_guide/indexing.html#returning-a-view-versus-a-copy\n",
      "  df_final[c] = df_final[c].astype(str).str.replace(',', '.', regex=False)\n",
      "C:\\Users\\Usuario\\AppData\\Local\\Temp\\ipykernel_20260\\691365213.py:9: SettingWithCopyWarning: \n",
      "A value is trying to be set on a copy of a slice from a DataFrame.\n",
      "Try using .loc[row_indexer,col_indexer] = value instead\n",
      "\n",
      "See the caveats in the documentation: https://pandas.pydata.org/pandas-docs/stable/user_guide/indexing.html#returning-a-view-versus-a-copy\n",
      "  df_final[c] = pd.to_numeric(df_final[c], errors='coerce')\n",
      "C:\\Users\\Usuario\\AppData\\Local\\Temp\\ipykernel_20260\\691365213.py:8: SettingWithCopyWarning: \n",
      "A value is trying to be set on a copy of a slice from a DataFrame.\n",
      "Try using .loc[row_indexer,col_indexer] = value instead\n",
      "\n",
      "See the caveats in the documentation: https://pandas.pydata.org/pandas-docs/stable/user_guide/indexing.html#returning-a-view-versus-a-copy\n",
      "  df_final[c] = df_final[c].astype(str).str.replace(',', '.', regex=False)\n",
      "C:\\Users\\Usuario\\AppData\\Local\\Temp\\ipykernel_20260\\691365213.py:9: SettingWithCopyWarning: \n",
      "A value is trying to be set on a copy of a slice from a DataFrame.\n",
      "Try using .loc[row_indexer,col_indexer] = value instead\n",
      "\n",
      "See the caveats in the documentation: https://pandas.pydata.org/pandas-docs/stable/user_guide/indexing.html#returning-a-view-versus-a-copy\n",
      "  df_final[c] = pd.to_numeric(df_final[c], errors='coerce')\n",
      "C:\\Users\\Usuario\\AppData\\Local\\Temp\\ipykernel_20260\\691365213.py:8: SettingWithCopyWarning: \n",
      "A value is trying to be set on a copy of a slice from a DataFrame.\n",
      "Try using .loc[row_indexer,col_indexer] = value instead\n",
      "\n",
      "See the caveats in the documentation: https://pandas.pydata.org/pandas-docs/stable/user_guide/indexing.html#returning-a-view-versus-a-copy\n",
      "  df_final[c] = df_final[c].astype(str).str.replace(',', '.', regex=False)\n",
      "C:\\Users\\Usuario\\AppData\\Local\\Temp\\ipykernel_20260\\691365213.py:9: SettingWithCopyWarning: \n",
      "A value is trying to be set on a copy of a slice from a DataFrame.\n",
      "Try using .loc[row_indexer,col_indexer] = value instead\n",
      "\n",
      "See the caveats in the documentation: https://pandas.pydata.org/pandas-docs/stable/user_guide/indexing.html#returning-a-view-versus-a-copy\n",
      "  df_final[c] = pd.to_numeric(df_final[c], errors='coerce')\n",
      "C:\\Users\\Usuario\\AppData\\Local\\Temp\\ipykernel_20260\\691365213.py:8: SettingWithCopyWarning: \n",
      "A value is trying to be set on a copy of a slice from a DataFrame.\n",
      "Try using .loc[row_indexer,col_indexer] = value instead\n",
      "\n",
      "See the caveats in the documentation: https://pandas.pydata.org/pandas-docs/stable/user_guide/indexing.html#returning-a-view-versus-a-copy\n",
      "  df_final[c] = df_final[c].astype(str).str.replace(',', '.', regex=False)\n",
      "C:\\Users\\Usuario\\AppData\\Local\\Temp\\ipykernel_20260\\691365213.py:9: SettingWithCopyWarning: \n",
      "A value is trying to be set on a copy of a slice from a DataFrame.\n",
      "Try using .loc[row_indexer,col_indexer] = value instead\n",
      "\n",
      "See the caveats in the documentation: https://pandas.pydata.org/pandas-docs/stable/user_guide/indexing.html#returning-a-view-versus-a-copy\n",
      "  df_final[c] = pd.to_numeric(df_final[c], errors='coerce')\n",
      "C:\\Users\\Usuario\\AppData\\Local\\Temp\\ipykernel_20260\\691365213.py:8: SettingWithCopyWarning: \n",
      "A value is trying to be set on a copy of a slice from a DataFrame.\n",
      "Try using .loc[row_indexer,col_indexer] = value instead\n",
      "\n",
      "See the caveats in the documentation: https://pandas.pydata.org/pandas-docs/stable/user_guide/indexing.html#returning-a-view-versus-a-copy\n",
      "  df_final[c] = df_final[c].astype(str).str.replace(',', '.', regex=False)\n",
      "C:\\Users\\Usuario\\AppData\\Local\\Temp\\ipykernel_20260\\691365213.py:9: SettingWithCopyWarning: \n",
      "A value is trying to be set on a copy of a slice from a DataFrame.\n",
      "Try using .loc[row_indexer,col_indexer] = value instead\n",
      "\n",
      "See the caveats in the documentation: https://pandas.pydata.org/pandas-docs/stable/user_guide/indexing.html#returning-a-view-versus-a-copy\n",
      "  df_final[c] = pd.to_numeric(df_final[c], errors='coerce')\n",
      "C:\\Users\\Usuario\\AppData\\Local\\Temp\\ipykernel_20260\\691365213.py:8: SettingWithCopyWarning: \n",
      "A value is trying to be set on a copy of a slice from a DataFrame.\n",
      "Try using .loc[row_indexer,col_indexer] = value instead\n",
      "\n",
      "See the caveats in the documentation: https://pandas.pydata.org/pandas-docs/stable/user_guide/indexing.html#returning-a-view-versus-a-copy\n",
      "  df_final[c] = df_final[c].astype(str).str.replace(',', '.', regex=False)\n",
      "C:\\Users\\Usuario\\AppData\\Local\\Temp\\ipykernel_20260\\691365213.py:9: SettingWithCopyWarning: \n",
      "A value is trying to be set on a copy of a slice from a DataFrame.\n",
      "Try using .loc[row_indexer,col_indexer] = value instead\n",
      "\n",
      "See the caveats in the documentation: https://pandas.pydata.org/pandas-docs/stable/user_guide/indexing.html#returning-a-view-versus-a-copy\n",
      "  df_final[c] = pd.to_numeric(df_final[c], errors='coerce')\n",
      "C:\\Users\\Usuario\\AppData\\Local\\Temp\\ipykernel_20260\\691365213.py:8: SettingWithCopyWarning: \n",
      "A value is trying to be set on a copy of a slice from a DataFrame.\n",
      "Try using .loc[row_indexer,col_indexer] = value instead\n",
      "\n",
      "See the caveats in the documentation: https://pandas.pydata.org/pandas-docs/stable/user_guide/indexing.html#returning-a-view-versus-a-copy\n",
      "  df_final[c] = df_final[c].astype(str).str.replace(',', '.', regex=False)\n",
      "C:\\Users\\Usuario\\AppData\\Local\\Temp\\ipykernel_20260\\691365213.py:9: SettingWithCopyWarning: \n",
      "A value is trying to be set on a copy of a slice from a DataFrame.\n",
      "Try using .loc[row_indexer,col_indexer] = value instead\n",
      "\n",
      "See the caveats in the documentation: https://pandas.pydata.org/pandas-docs/stable/user_guide/indexing.html#returning-a-view-versus-a-copy\n",
      "  df_final[c] = pd.to_numeric(df_final[c], errors='coerce')\n",
      "C:\\Users\\Usuario\\AppData\\Local\\Temp\\ipykernel_20260\\691365213.py:8: SettingWithCopyWarning: \n",
      "A value is trying to be set on a copy of a slice from a DataFrame.\n",
      "Try using .loc[row_indexer,col_indexer] = value instead\n",
      "\n",
      "See the caveats in the documentation: https://pandas.pydata.org/pandas-docs/stable/user_guide/indexing.html#returning-a-view-versus-a-copy\n",
      "  df_final[c] = df_final[c].astype(str).str.replace(',', '.', regex=False)\n",
      "C:\\Users\\Usuario\\AppData\\Local\\Temp\\ipykernel_20260\\691365213.py:9: SettingWithCopyWarning: \n",
      "A value is trying to be set on a copy of a slice from a DataFrame.\n",
      "Try using .loc[row_indexer,col_indexer] = value instead\n",
      "\n",
      "See the caveats in the documentation: https://pandas.pydata.org/pandas-docs/stable/user_guide/indexing.html#returning-a-view-versus-a-copy\n",
      "  df_final[c] = pd.to_numeric(df_final[c], errors='coerce')\n",
      "C:\\Users\\Usuario\\AppData\\Local\\Temp\\ipykernel_20260\\691365213.py:8: SettingWithCopyWarning: \n",
      "A value is trying to be set on a copy of a slice from a DataFrame.\n",
      "Try using .loc[row_indexer,col_indexer] = value instead\n",
      "\n",
      "See the caveats in the documentation: https://pandas.pydata.org/pandas-docs/stable/user_guide/indexing.html#returning-a-view-versus-a-copy\n",
      "  df_final[c] = df_final[c].astype(str).str.replace(',', '.', regex=False)\n",
      "C:\\Users\\Usuario\\AppData\\Local\\Temp\\ipykernel_20260\\691365213.py:9: SettingWithCopyWarning: \n",
      "A value is trying to be set on a copy of a slice from a DataFrame.\n",
      "Try using .loc[row_indexer,col_indexer] = value instead\n",
      "\n",
      "See the caveats in the documentation: https://pandas.pydata.org/pandas-docs/stable/user_guide/indexing.html#returning-a-view-versus-a-copy\n",
      "  df_final[c] = pd.to_numeric(df_final[c], errors='coerce')\n",
      "C:\\Users\\Usuario\\AppData\\Local\\Temp\\ipykernel_20260\\691365213.py:8: SettingWithCopyWarning: \n",
      "A value is trying to be set on a copy of a slice from a DataFrame.\n",
      "Try using .loc[row_indexer,col_indexer] = value instead\n",
      "\n",
      "See the caveats in the documentation: https://pandas.pydata.org/pandas-docs/stable/user_guide/indexing.html#returning-a-view-versus-a-copy\n",
      "  df_final[c] = df_final[c].astype(str).str.replace(',', '.', regex=False)\n",
      "C:\\Users\\Usuario\\AppData\\Local\\Temp\\ipykernel_20260\\691365213.py:9: SettingWithCopyWarning: \n",
      "A value is trying to be set on a copy of a slice from a DataFrame.\n",
      "Try using .loc[row_indexer,col_indexer] = value instead\n",
      "\n",
      "See the caveats in the documentation: https://pandas.pydata.org/pandas-docs/stable/user_guide/indexing.html#returning-a-view-versus-a-copy\n",
      "  df_final[c] = pd.to_numeric(df_final[c], errors='coerce')\n",
      "C:\\Users\\Usuario\\AppData\\Local\\Temp\\ipykernel_20260\\691365213.py:8: SettingWithCopyWarning: \n",
      "A value is trying to be set on a copy of a slice from a DataFrame.\n",
      "Try using .loc[row_indexer,col_indexer] = value instead\n",
      "\n",
      "See the caveats in the documentation: https://pandas.pydata.org/pandas-docs/stable/user_guide/indexing.html#returning-a-view-versus-a-copy\n",
      "  df_final[c] = df_final[c].astype(str).str.replace(',', '.', regex=False)\n",
      "C:\\Users\\Usuario\\AppData\\Local\\Temp\\ipykernel_20260\\691365213.py:9: SettingWithCopyWarning: \n",
      "A value is trying to be set on a copy of a slice from a DataFrame.\n",
      "Try using .loc[row_indexer,col_indexer] = value instead\n",
      "\n",
      "See the caveats in the documentation: https://pandas.pydata.org/pandas-docs/stable/user_guide/indexing.html#returning-a-view-versus-a-copy\n",
      "  df_final[c] = pd.to_numeric(df_final[c], errors='coerce')\n",
      "C:\\Users\\Usuario\\AppData\\Local\\Temp\\ipykernel_20260\\691365213.py:8: SettingWithCopyWarning: \n",
      "A value is trying to be set on a copy of a slice from a DataFrame.\n",
      "Try using .loc[row_indexer,col_indexer] = value instead\n",
      "\n",
      "See the caveats in the documentation: https://pandas.pydata.org/pandas-docs/stable/user_guide/indexing.html#returning-a-view-versus-a-copy\n",
      "  df_final[c] = df_final[c].astype(str).str.replace(',', '.', regex=False)\n",
      "C:\\Users\\Usuario\\AppData\\Local\\Temp\\ipykernel_20260\\691365213.py:9: SettingWithCopyWarning: \n",
      "A value is trying to be set on a copy of a slice from a DataFrame.\n",
      "Try using .loc[row_indexer,col_indexer] = value instead\n",
      "\n",
      "See the caveats in the documentation: https://pandas.pydata.org/pandas-docs/stable/user_guide/indexing.html#returning-a-view-versus-a-copy\n",
      "  df_final[c] = pd.to_numeric(df_final[c], errors='coerce')\n",
      "C:\\Users\\Usuario\\AppData\\Local\\Temp\\ipykernel_20260\\691365213.py:8: SettingWithCopyWarning: \n",
      "A value is trying to be set on a copy of a slice from a DataFrame.\n",
      "Try using .loc[row_indexer,col_indexer] = value instead\n",
      "\n",
      "See the caveats in the documentation: https://pandas.pydata.org/pandas-docs/stable/user_guide/indexing.html#returning-a-view-versus-a-copy\n",
      "  df_final[c] = df_final[c].astype(str).str.replace(',', '.', regex=False)\n",
      "C:\\Users\\Usuario\\AppData\\Local\\Temp\\ipykernel_20260\\691365213.py:9: SettingWithCopyWarning: \n",
      "A value is trying to be set on a copy of a slice from a DataFrame.\n",
      "Try using .loc[row_indexer,col_indexer] = value instead\n",
      "\n",
      "See the caveats in the documentation: https://pandas.pydata.org/pandas-docs/stable/user_guide/indexing.html#returning-a-view-versus-a-copy\n",
      "  df_final[c] = pd.to_numeric(df_final[c], errors='coerce')\n",
      "C:\\Users\\Usuario\\AppData\\Local\\Temp\\ipykernel_20260\\691365213.py:8: SettingWithCopyWarning: \n",
      "A value is trying to be set on a copy of a slice from a DataFrame.\n",
      "Try using .loc[row_indexer,col_indexer] = value instead\n",
      "\n",
      "See the caveats in the documentation: https://pandas.pydata.org/pandas-docs/stable/user_guide/indexing.html#returning-a-view-versus-a-copy\n",
      "  df_final[c] = df_final[c].astype(str).str.replace(',', '.', regex=False)\n",
      "C:\\Users\\Usuario\\AppData\\Local\\Temp\\ipykernel_20260\\691365213.py:9: SettingWithCopyWarning: \n",
      "A value is trying to be set on a copy of a slice from a DataFrame.\n",
      "Try using .loc[row_indexer,col_indexer] = value instead\n",
      "\n",
      "See the caveats in the documentation: https://pandas.pydata.org/pandas-docs/stable/user_guide/indexing.html#returning-a-view-versus-a-copy\n",
      "  df_final[c] = pd.to_numeric(df_final[c], errors='coerce')\n",
      "C:\\Users\\Usuario\\AppData\\Local\\Temp\\ipykernel_20260\\691365213.py:8: SettingWithCopyWarning: \n",
      "A value is trying to be set on a copy of a slice from a DataFrame.\n",
      "Try using .loc[row_indexer,col_indexer] = value instead\n",
      "\n",
      "See the caveats in the documentation: https://pandas.pydata.org/pandas-docs/stable/user_guide/indexing.html#returning-a-view-versus-a-copy\n",
      "  df_final[c] = df_final[c].astype(str).str.replace(',', '.', regex=False)\n",
      "C:\\Users\\Usuario\\AppData\\Local\\Temp\\ipykernel_20260\\691365213.py:9: SettingWithCopyWarning: \n",
      "A value is trying to be set on a copy of a slice from a DataFrame.\n",
      "Try using .loc[row_indexer,col_indexer] = value instead\n",
      "\n",
      "See the caveats in the documentation: https://pandas.pydata.org/pandas-docs/stable/user_guide/indexing.html#returning-a-view-versus-a-copy\n",
      "  df_final[c] = pd.to_numeric(df_final[c], errors='coerce')\n"
     ]
    }
   ],
   "source": [
    "columnas_numericas = ['PAS', 'PAD', 'IMC', 'IMCAnterior', 'Peso', 'PesoAnterior', 'G22-1',\n",
    "                     'G22-2', '953-1', 'C86-1', 'G06', 'PerimetroAbdominal', 'ResultadoCreatininaActual',\n",
    "                     'ResultadoCreatininaAnterior', 'TFGCyGActual', 'TFGCyGAnterior', 'TFGActual', 'TFGAnterior',\n",
    "                      'Albuminuria', 'Microalbuminuria', 'Proteinuria']\n",
    "\n",
    "for c in columnas_numericas:\n",
    "    # Reemplazar ',' por '.' y convertir a float\n",
    "    df_final[c] = df_final[c].astype(str).str.replace(',', '.', regex=False)\n",
    "    df_final[c] = pd.to_numeric(df_final[c], errors='coerce')\n",
    "\n",
    "# Para mostrar esquema y primeras filas (similar a printSchema y show en PySpark)\n",
    "print(df_final.dtypes)\n",
    "print(df_final.head())\n"
   ]
  },
  {
   "cell_type": "markdown",
   "id": "0639405e",
   "metadata": {},
   "source": [
    "# Arreglo problema con IMC\n",
    "\n",
    "Ciertos IMC tienen problemas de input ya que no tiene sentido que haya IMC's mayores a 60. Por lo que tomaremos dichos datos y los dejaremos como NA para que no nos afecte los modelos ni el análisis exploratorio."
   ]
  },
  {
   "cell_type": "code",
   "execution_count": 26,
   "id": "acda0d23",
   "metadata": {},
   "outputs": [
    {
     "data": {
      "application/vnd.microsoft.datawrangler.viewer.v0+json": {
       "columns": [
        {
         "name": "index",
         "rawType": "int64",
         "type": "integer"
        },
        {
         "name": "IMC",
         "rawType": "float64",
         "type": "float"
        }
       ],
       "ref": "0b7c0019-5a79-46a8-b9a2-a3eb0fcdbb82",
       "rows": [
        [
         "47",
         "2776.6943"
        ],
        [
         "162",
         "10000.0"
        ],
        [
         "163",
         "10000.0"
        ],
        [
         "251",
         "139.64497"
        ],
        [
         "758",
         "2776.6943"
        ],
        [
         "794",
         "192974.0"
        ],
        [
         "1613",
         "492000.03"
        ],
        [
         "2102",
         "10000.0"
        ],
        [
         "2332",
         "139.64497"
        ],
        [
         "2416",
         "10000.0"
        ],
        [
         "2418",
         "10000.0"
        ],
        [
         "2579",
         "213017.77"
        ],
        [
         "2589",
         "251919.28"
        ],
        [
         "2594",
         "192394.75"
        ],
        [
         "2598",
         "176000.0"
        ],
        [
         "2611",
         "251962.8"
        ],
        [
         "2714",
         "2776.6943"
        ],
        [
         "2763",
         "213017.77"
        ],
        [
         "3070",
         "360899.62"
        ],
        [
         "3321",
         "139.64497"
        ],
        [
         "3430",
         "10000.0"
        ],
        [
         "3535",
         "10000.0"
        ],
        [
         "4140",
         "294700.0"
        ]
       ],
       "shape": {
        "columns": 1,
        "rows": 23
       }
      },
      "text/plain": [
       "47        2776.69430\n",
       "162      10000.00000\n",
       "163      10000.00000\n",
       "251        139.64497\n",
       "758       2776.69430\n",
       "794     192974.00000\n",
       "1613    492000.03000\n",
       "2102     10000.00000\n",
       "2332       139.64497\n",
       "2416     10000.00000\n",
       "2418     10000.00000\n",
       "2579    213017.77000\n",
       "2589    251919.28000\n",
       "2594    192394.75000\n",
       "2598    176000.00000\n",
       "2611    251962.80000\n",
       "2714      2776.69430\n",
       "2763    213017.77000\n",
       "3070    360899.62000\n",
       "3321       139.64497\n",
       "3430     10000.00000\n",
       "3535     10000.00000\n",
       "4140    294700.00000\n",
       "Name: IMC, dtype: float64"
      ]
     },
     "execution_count": 26,
     "metadata": {},
     "output_type": "execute_result"
    }
   ],
   "source": [
    "df_final.loc[df_final['IMC'] > 100, 'IMC']"
   ]
  },
  {
   "cell_type": "code",
   "execution_count": 27,
   "id": "26ad7f7f",
   "metadata": {},
   "outputs": [],
   "source": [
    "df_final.loc[df_final['IMC'] > 100, 'IMC'] = np.nan"
   ]
  },
  {
   "cell_type": "markdown",
   "id": "18c1ebf2",
   "metadata": {},
   "source": [
    "# Problema con 0 y negativos\n",
    "\n",
    "Para las variables clínicas en el siguiente resumen podemos ver que tenemos incongruencias.\n",
    "\n",
    "1. Datos con 0: Es imposible que la medida de Presión arterial **Diastólica** y **Sistólica**\n",
    "2. Datos negativos: Tampoco es posible que una persona tenga un perímetro abdominal negativo.\n",
    "\n",
    "Por lo que para estos datos lo que haremos es ponerlos en NA."
   ]
  },
  {
   "cell_type": "code",
   "execution_count": 28,
   "id": "76b2e005",
   "metadata": {},
   "outputs": [
    {
     "name": "stdout",
     "output_type": "stream",
     "text": [
      "\n",
      "Resumen variables clínicas:\n",
      "+--------------------+----------------+----------+-------+-------+\n",
      "|                    | mean ± std     |   median |   min |   max |\n",
      "|--------------------+----------------+----------+-------+-------|\n",
      "| PerimetroAbdominal | 22.74 ± 38.19  |        0 |    -2 |   159 |\n",
      "| PAS                | 112.12 ± 24.59 |      118 |     0 |   200 |\n",
      "| PAD                | 73.51 ± 16.30  |       77 |     0 |   150 |\n",
      "| Peso               | 61.93 ± 18.18  |       63 |     1 |   160 |\n",
      "+--------------------+----------------+----------+-------+-------+\n"
     ]
    }
   ],
   "source": [
    "# 3. Tabla resumen (media ± std, mediana, min, max) para variables clínicas\n",
    "\n",
    "vars_clinicas = ['PerimetroAbdominal', 'PAS', 'PAD', 'Peso']\n",
    "summary = df_final[vars_clinicas].agg(['mean','std','median','min','max']).T\n",
    "summary['mean ± std'] = summary.apply(lambda r: f\"{r['mean']:.2f} ± {r['std']:.2f}\", axis=1)\n",
    "summary_final = summary[['mean ± std','median','min','max']]\n",
    "print(\"\\nResumen variables clínicas:\")\n",
    "print(tabulate(summary_final, headers='keys', tablefmt='psql'))"
   ]
  },
  {
   "cell_type": "code",
   "execution_count": 29,
   "id": "184e5195",
   "metadata": {},
   "outputs": [],
   "source": [
    "cols = ['PerimetroAbdominal', 'PAS', 'PAD', 'Peso']\n",
    "\n",
    "for col in cols:\n",
    "    df_final.loc[df_final[col] <= 0, col] = np.nan"
   ]
  },
  {
   "cell_type": "code",
   "execution_count": 30,
   "id": "4796f38c",
   "metadata": {},
   "outputs": [],
   "source": [
    "df_final.to_csv(\"RCV_DataPrep.csv\")"
   ]
  }
 ],
 "metadata": {
  "kernelspec": {
   "display_name": "Python 3",
   "language": "python",
   "name": "python3"
  },
  "language_info": {
   "codemirror_mode": {
    "name": "ipython",
    "version": 3
   },
   "file_extension": ".py",
   "mimetype": "text/x-python",
   "name": "python",
   "nbconvert_exporter": "python",
   "pygments_lexer": "ipython3",
   "version": "3.10.11"
  }
 },
 "nbformat": 4,
 "nbformat_minor": 5
}
